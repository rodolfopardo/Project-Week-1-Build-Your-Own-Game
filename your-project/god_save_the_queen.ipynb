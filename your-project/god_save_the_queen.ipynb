{
 "cells": [
  {
   "cell_type": "markdown",
   "metadata": {},
   "source": [
    "# SAVE THE QUEEN "
   ]
  },
  {
   "cell_type": "markdown",
   "metadata": {},
   "source": [
    "## El juego consiste en que el jugador intente adivinar la palabra que la computadora elije al azar para poder salvar a la reina."
   ]
  },
  {
   "cell_type": "markdown",
   "metadata": {},
   "source": [
    "### Vidas: 3\n",
    "### Cantidad de jugadores: 1 "
   ]
  },
  {
   "cell_type": "code",
   "execution_count": 1,
   "metadata": {},
   "outputs": [],
   "source": [
    "#Library \n",
    "\n",
    "import random \n",
    "from random import randint"
   ]
  },
  {
   "cell_type": "code",
   "execution_count": 2,
   "metadata": {},
   "outputs": [
    {
     "name": "stdout",
     "output_type": "stream",
     "text": [
      "Arrenge the letters to save our Queen\n",
      "['o', 'w', 'n', 'r', 'c']\n",
      " crown\n",
      "You got a hit, deal 2 more\n",
      "Arrenge the letters to save our Queen\n",
      "['c', 'n', 'm', 'i', 'b', 'g', 'h', 'u', 'k', 'a']\n",
      " buckingham\n",
      "You got a hit, deal 1 more\n",
      "Arrenge the letters to save our Queen\n",
      "['u', 'o', 's', 'v', 'n', 'i', 'c', 't']\n",
      " viscount\n",
      "You win\n"
     ]
    }
   ],
   "source": [
    "#words\n",
    "\n",
    "import random\n",
    "from random import randint\n",
    "\n",
    "words = [\"crown\", \"united kingdom\", \"royalty\", \"castle\", \"empress\", \"buckingham\", \"tiara\", \"viscount\", \"royal estate\", \"throne\"]\n",
    "player1 = 1\n",
    "nivelx = 3\n",
    "\n",
    "def nivel(x):\n",
    "  global player1\n",
    "  return player1\n",
    "\n",
    "\n",
    "while player1 == 1 and nivelx > 0:\n",
    "    vidas = 3\n",
    "    b = words[randint(0,9)]\n",
    "    a = list(b)\n",
    "    random.shuffle(a)\n",
    "    print(\"Arrenge the letters to save our Queen\")\n",
    "    print(a)\n",
    "    while vidas >=1:\n",
    "       player = input(\" \")\n",
    "       if player == b:\n",
    "         if nivelx != 1:\n",
    "           print (\"You got a hit, deal %i more\" % (nivelx -1))\n",
    "           nivel(player1)\n",
    "         elif nivelx == 1:\n",
    "           print(\"You win\")\n",
    "         nivelx -= 1\n",
    "         break\n",
    "       elif player != b:\n",
    "         if vidas ==1:\n",
    "           print(\"The Dragon ate the Queen, You lose!!!\")\n",
    "           player1 = 'perdiste'\n",
    "           break\n",
    "         else:\n",
    "            print(\"Our Queen is still in danger\")\n",
    "            vidas -= 1\n",
    "            print(\"Try again, your sword have %i hits!\" % vidas)\n",
    "            print(a)\n"
   ]
  }
 ],
 "metadata": {
  "kernelspec": {
   "display_name": "Python 3",
   "language": "python",
   "name": "python3"
  },
  "language_info": {
   "codemirror_mode": {
    "name": "ipython",
    "version": 3
   },
   "file_extension": ".py",
   "mimetype": "text/x-python",
   "name": "python",
   "nbconvert_exporter": "python",
   "pygments_lexer": "ipython3",
   "version": "3.7.3"
  }
 },
 "nbformat": 4,
 "nbformat_minor": 2
}
